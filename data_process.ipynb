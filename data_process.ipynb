{
 "cells": [
  {
   "cell_type": "code",
   "execution_count": 1,
   "metadata": {},
   "outputs": [],
   "source": [
    "import os\n",
    "\n",
    "import pandas as pd\n",
    "import numpy as np\n",
    "import scipy.io as sio\n",
    "from config import data_dir, data_dict"
   ]
  },
  {
   "cell_type": "code",
   "execution_count": 2,
   "metadata": {},
   "outputs": [],
   "source": [
    "# 删除os.path.join(data_dir, 'processed_data')下所有csv文件\n",
    "for i in os.listdir(os.path.join(data_dir, 'processed_data')):\n",
    "    os.remove(os.path.join(data_dir, 'processed_data', i))"
   ]
  },
  {
   "cell_type": "code",
   "execution_count": 3,
   "metadata": {},
   "outputs": [],
   "source": [
    "# 样本长度\n",
    "sample_length = 512\n",
    "\n",
    "for k,v in data_dict.items():\n",
    "    # 读取数据\n",
    "    data = sio.loadmat(os.path.join(data_dir, v))\n",
    "    # 取出包含'DE_time'的key\n",
    "    key = [i for i in data.keys() if 'DE_time' in i]\n",
    "    # 取出该k对应的v\n",
    "    data_time = data[key[0]]\n",
    "    # 480000/1024 = 468 \n",
    "    # 将data_time分割成为468个样本，每个样本为1024个数据点\n",
    "    num_samples = int(len(data_time) / sample_length)\n",
    "    for i in range(num_samples):\n",
    "        data_time_sample = data_time[i*sample_length:(i+1)*sample_length]\n",
    "        # 对data_time_sample做傅里叶变换\n",
    "        # data_time_sample = np.fft.fft(data_time_sample)\n",
    "        # 将data_time_sample保存为csv文件\n",
    "        df = pd.DataFrame(data_time_sample.reshape(1, -1))\n",
    "        df.to_csv(os.path.join(data_dir, 'processed_data', f'{k}_{i}.csv'), index=False)\n"
   ]
  },
  {
   "cell_type": "code",
   "execution_count": 4,
   "metadata": {},
   "outputs": [
    {
     "name": "stdout",
     "output_type": "stream",
     "text": [
      "9496\n"
     ]
    }
   ],
   "source": [
    "df_lst = []\n",
    "num = 0\n",
    "# 读取os.path.join(data_dir, 'processed_data')下所有csv文件\n",
    "for i in os.listdir(os.path.join(data_dir, 'processed_data')):\n",
    "    df = pd.read_csv(os.path.join(data_dir, 'processed_data', i))\n",
    "    df['label'] = i.split('_')[0]\n",
    "    df_lst.append(df)\n",
    "    num += 1\n",
    "# 合并\n",
    "df_all = pd.concat(df_lst, ignore_index=True)\n",
    "print(num)"
   ]
  },
  {
   "cell_type": "code",
   "execution_count": 5,
   "metadata": {},
   "outputs": [],
   "source": [
    "df_all.to_parquet(os.path.join(data_dir, 'all.parquet'))"
   ]
  }
 ],
 "metadata": {
  "kernelspec": {
   "display_name": "Python 3",
   "language": "python",
   "name": "python3"
  },
  "language_info": {
   "codemirror_mode": {
    "name": "ipython",
    "version": 3
   },
   "file_extension": ".py",
   "mimetype": "text/x-python",
   "name": "python",
   "nbconvert_exporter": "python",
   "pygments_lexer": "ipython3",
   "version": "3.12.0"
  }
 },
 "nbformat": 4,
 "nbformat_minor": 2
}
