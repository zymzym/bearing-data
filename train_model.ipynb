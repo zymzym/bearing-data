{
 "cells": [
  {
   "cell_type": "code",
   "execution_count": 1,
   "metadata": {},
   "outputs": [],
   "source": [
    "import os\n",
    "import pandas as pd\n",
    "from config import data_dir"
   ]
  },
  {
   "cell_type": "code",
   "execution_count": 3,
   "metadata": {},
   "outputs": [],
   "source": [
    "df = pd.read_parquet(os.path.join(data_dir, 'all.parquet'))\n",
    "\n",
    "label_dict = {'B007':0 , 'B021': 1, 'IR007': 2, 'IR021': 3, 'OR007@12': 4, 'OR007@3': 5, 'OR007@6': 6, 'OR021@12': 7, 'OR021@3': 8, 'OR021@6': 9}\n",
    "df['label'] = df['label'].map(label_dict)"
   ]
  },
  {
   "cell_type": "code",
   "execution_count": 4,
   "metadata": {},
   "outputs": [],
   "source": [
    "import torch\n",
    "from torch import nn, optim\n",
    "import torch.nn.functional as F\n",
    "from torch.utils.data import DataLoader, TensorDataset, random_split\n",
    "\n",
    "# 取df_all的第1列到第512列作为特征\n",
    "features = df.iloc[:, :512].values\n",
    "# 对特征做归一化\n",
    "features = (features - features.mean()) / features.std()\n",
    "# 使用df_all的最后1列作为标签\n",
    "labels = df.iloc[:, -1].values\n",
    "\n",
    "# 将特征和标签转换为PyTorch张量\n",
    "features = torch.tensor(features, dtype=torch.float32)\n",
    "labels = torch.tensor(labels, dtype=torch.long)\n",
    "\n",
    "# 划分训练集和测试集\n",
    "dataset = TensorDataset(features, labels)\n",
    "train_size = int(0.8 * len(dataset))\n",
    "test_size = len(dataset) - train_size\n",
    "train_dataset, test_dataset = random_split(dataset, [train_size, test_size])\n",
    "\n",
    "# 创建数据加载器\n",
    "train_loader = DataLoader(train_dataset, batch_size=32, shuffle=True)\n",
    "test_loader = DataLoader(test_dataset, batch_size=32, shuffle=False)"
   ]
  },
  {
   "cell_type": "code",
   "execution_count": 8,
   "metadata": {},
   "outputs": [
    {
     "name": "stderr",
     "output_type": "stream",
     "text": [
      "d:\\my_product\\dev\\Lib\\site-packages\\tqdm\\auto.py:21: TqdmWarning: IProgress not found. Please update jupyter and ipywidgets. See https://ipywidgets.readthedocs.io/en/stable/user_install.html\n",
      "  from .autonotebook import tqdm as notebook_tqdm\n"
     ]
    }
   ],
   "source": [
    "import transformers"
   ]
  },
  {
   "cell_type": "code",
   "execution_count": 36,
   "metadata": {},
   "outputs": [],
   "source": [
    "label_dict = {v: k for k, v in label_dict.items()}\n",
    "df['fault'] = df['labels'].map(label_dict)\n",
    "df['fault_pred'] = df['predicted'].map(label_dict)"
   ]
  },
  {
   "cell_type": "code",
   "execution_count": 41,
   "metadata": {},
   "outputs": [
    {
     "name": "stderr",
     "output_type": "stream",
     "text": [
      "C:\\Users\\zzeee\\AppData\\Local\\Temp\\ipykernel_45120\\56575370.py:2: DeprecationWarning: DataFrameGroupBy.apply operated on the grouping columns. This behavior is deprecated, and in a future version of pandas the grouping columns will be excluded from the operation. Either pass `include_groups=False` to exclude the groupings or explicitly select the grouping columns after groupby to silence this warning.\n",
      "  df.groupby('fault').apply(lambda x: pd.Series({\n"
     ]
    },
    {
     "data": {
      "text/html": [
       "<div>\n",
       "<style scoped>\n",
       "    .dataframe tbody tr th:only-of-type {\n",
       "        vertical-align: middle;\n",
       "    }\n",
       "\n",
       "    .dataframe tbody tr th {\n",
       "        vertical-align: top;\n",
       "    }\n",
       "\n",
       "    .dataframe thead th {\n",
       "        text-align: right;\n",
       "    }\n",
       "</style>\n",
       "<table border=\"1\" class=\"dataframe\">\n",
       "  <thead>\n",
       "    <tr style=\"text-align: right;\">\n",
       "      <th></th>\n",
       "      <th>total</th>\n",
       "      <th>correct</th>\n",
       "      <th>accuracy</th>\n",
       "    </tr>\n",
       "    <tr>\n",
       "      <th>fault</th>\n",
       "      <th></th>\n",
       "      <th></th>\n",
       "      <th></th>\n",
       "    </tr>\n",
       "  </thead>\n",
       "  <tbody>\n",
       "    <tr>\n",
       "      <th>B007</th>\n",
       "      <td>87.0</td>\n",
       "      <td>75.0</td>\n",
       "      <td>0.862069</td>\n",
       "    </tr>\n",
       "    <tr>\n",
       "      <th>B021</th>\n",
       "      <td>96.0</td>\n",
       "      <td>70.0</td>\n",
       "      <td>0.729167</td>\n",
       "    </tr>\n",
       "    <tr>\n",
       "      <th>IR007</th>\n",
       "      <td>97.0</td>\n",
       "      <td>92.0</td>\n",
       "      <td>0.948454</td>\n",
       "    </tr>\n",
       "    <tr>\n",
       "      <th>IR021</th>\n",
       "      <td>106.0</td>\n",
       "      <td>105.0</td>\n",
       "      <td>0.990566</td>\n",
       "    </tr>\n",
       "    <tr>\n",
       "      <th>OR007@12</th>\n",
       "      <td>87.0</td>\n",
       "      <td>46.0</td>\n",
       "      <td>0.528736</td>\n",
       "    </tr>\n",
       "    <tr>\n",
       "      <th>OR007@3</th>\n",
       "      <td>89.0</td>\n",
       "      <td>86.0</td>\n",
       "      <td>0.966292</td>\n",
       "    </tr>\n",
       "    <tr>\n",
       "      <th>OR007@6</th>\n",
       "      <td>95.0</td>\n",
       "      <td>94.0</td>\n",
       "      <td>0.989474</td>\n",
       "    </tr>\n",
       "    <tr>\n",
       "      <th>OR021@12</th>\n",
       "      <td>107.0</td>\n",
       "      <td>97.0</td>\n",
       "      <td>0.906542</td>\n",
       "    </tr>\n",
       "    <tr>\n",
       "      <th>OR021@3</th>\n",
       "      <td>94.0</td>\n",
       "      <td>87.0</td>\n",
       "      <td>0.925532</td>\n",
       "    </tr>\n",
       "    <tr>\n",
       "      <th>OR021@6</th>\n",
       "      <td>91.0</td>\n",
       "      <td>66.0</td>\n",
       "      <td>0.725275</td>\n",
       "    </tr>\n",
       "  </tbody>\n",
       "</table>\n",
       "</div>"
      ],
      "text/plain": [
       "          total  correct  accuracy\n",
       "fault                             \n",
       "B007       87.0     75.0  0.862069\n",
       "B021       96.0     70.0  0.729167\n",
       "IR007      97.0     92.0  0.948454\n",
       "IR021     106.0    105.0  0.990566\n",
       "OR007@12   87.0     46.0  0.528736\n",
       "OR007@3    89.0     86.0  0.966292\n",
       "OR007@6    95.0     94.0  0.989474\n",
       "OR021@12  107.0     97.0  0.906542\n",
       "OR021@3    94.0     87.0  0.925532\n",
       "OR021@6    91.0     66.0  0.725275"
      ]
     },
     "execution_count": 41,
     "metadata": {},
     "output_type": "execute_result"
    }
   ],
   "source": [
    "# 计算每种fault的数量，预测正确的数量\n",
    "df.groupby('fault').apply(lambda x: pd.Series({\n",
    "    'total': x.shape[0],\n",
    "    'correct': (x['fault'] == x['fault_pred']).sum(),\n",
    "    'accuracy': (x['fault'] == x['fault_pred']).mean()\n",
    "}))"
   ]
  }
 ],
 "metadata": {
  "kernelspec": {
   "display_name": "Python 3",
   "language": "python",
   "name": "python3"
  },
  "language_info": {
   "codemirror_mode": {
    "name": "ipython",
    "version": 3
   },
   "file_extension": ".py",
   "mimetype": "text/x-python",
   "name": "python",
   "nbconvert_exporter": "python",
   "pygments_lexer": "ipython3",
   "version": "3.12.0"
  }
 },
 "nbformat": 4,
 "nbformat_minor": 2
}
